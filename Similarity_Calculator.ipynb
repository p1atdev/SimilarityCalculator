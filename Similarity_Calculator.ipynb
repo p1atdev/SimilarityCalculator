{
  "nbformat": 4,
  "nbformat_minor": 0,
  "metadata": {
    "colab": {
      "provenance": [],
      "collapsed_sections": [
        "SESVfDwK-a2d",
        "Bw8msfIw-tba",
        "Scu5Miw9-xEY"
      ],
      "authorship_tag": "ABX9TyMxRHrD8Gj1ejNO/I637f/V",
      "include_colab_link": true
    },
    "kernelspec": {
      "name": "python3",
      "display_name": "Python 3"
    },
    "language_info": {
      "name": "python"
    },
    "accelerator": "GPU",
    "gpuClass": "standard"
  },
  "cells": [
    {
      "cell_type": "markdown",
      "metadata": {
        "id": "view-in-github",
        "colab_type": "text"
      },
      "source": [
        "<a href=\"https://colab.research.google.com/github/p1atdev/SimilarityCalculator/blob/main/Similarity_Calculator.ipynb\" target=\"_parent\"><img src=\"https://colab.research.google.com/assets/colab-badge.svg\" alt=\"Open In Colab\"/></a>"
      ]
    },
    {
      "cell_type": "markdown",
      "source": [
        "# 準備\n",
        "必要なもののインストールなど"
      ],
      "metadata": {
        "id": "SESVfDwK-a2d"
      }
    },
    {
      "cell_type": "code",
      "execution_count": null,
      "metadata": {
        "id": "FjSao2FH98UN"
      },
      "outputs": [],
      "source": [
        "!pip install torch pytorch-lightning safetensors"
      ]
    },
    {
      "cell_type": "markdown",
      "source": [
        "## インポート"
      ],
      "metadata": {
        "id": "Bw8msfIw-tba"
      }
    },
    {
      "cell_type": "code",
      "source": [
        "from safetensors.torch import load_file\n",
        "import sys\n",
        "import torch\n",
        "from pathlib import Path\n",
        "import torch.nn as nn\n",
        "import torch.nn.functional as F\n",
        "import requests\n",
        "from pathlib import Path\n",
        "import os"
      ],
      "metadata": {
        "id": "oztgDAfs-Z5-"
      },
      "execution_count": null,
      "outputs": []
    },
    {
      "cell_type": "markdown",
      "source": [
        "## 関数定義"
      ],
      "metadata": {
        "id": "Scu5Miw9-xEY"
      }
    },
    {
      "cell_type": "code",
      "source": [
        "def cal_cross_attn(to_q, to_k, to_v, rand_input):\n",
        "    hidden_dim, embed_dim = to_q.shape\n",
        "    attn_to_q = nn.Linear(hidden_dim, embed_dim, bias=False)\n",
        "    attn_to_k = nn.Linear(hidden_dim, embed_dim, bias=False)\n",
        "    attn_to_v = nn.Linear(hidden_dim, embed_dim, bias=False)\n",
        "    attn_to_q.load_state_dict({\"weight\": to_q})\n",
        "    attn_to_k.load_state_dict({\"weight\": to_k})\n",
        "    attn_to_v.load_state_dict({\"weight\": to_v})\n",
        "    \n",
        "    return torch.einsum(\n",
        "        \"ik, jk -> ik\", \n",
        "        F.softmax(torch.einsum(\"ij, kj -> ik\", attn_to_q(rand_input), attn_to_k(rand_input)), dim=-1),\n",
        "        attn_to_v(rand_input)\n",
        "    )\n",
        "\n",
        "def model_hash(filename):\n",
        "    try:\n",
        "        with open(filename, \"rb\") as file:\n",
        "            import hashlib\n",
        "            m = hashlib.sha256()\n",
        "\n",
        "            file.seek(0x100000)\n",
        "            m.update(file.read(0x10000))\n",
        "            return m.hexdigest()[0:8]\n",
        "    except FileNotFoundError:\n",
        "        return 'NOFILE'\n",
        "        \n",
        "def load_model(path):\n",
        "    if path.suffix == \".safetensors\":\n",
        "        return load_file(path, device=\"cpu\")\n",
        "    else:\n",
        "        ckpt = torch.load(path, map_location=\"cpu\")\n",
        "        return ckpt[\"state_dict\"] if \"state_dict\" in ckpt else ckpt\n",
        "        \n",
        "def eval(model, n, input):\n",
        "    qk = f\"model.diffusion_model.output_blocks.{n}.1.transformer_blocks.0.attn1.to_q.weight\"\n",
        "    uk = f\"model.diffusion_model.output_blocks.{n}.1.transformer_blocks.0.attn1.to_k.weight\"\n",
        "    vk = f\"model.diffusion_model.output_blocks.{n}.1.transformer_blocks.0.attn1.to_v.weight\"\n",
        "    atoq, atok, atov = model[qk], model[uk], model[vk]\n",
        "\n",
        "    attn = cal_cross_attn(atoq, atok, atov, input)\n",
        "    return attn"
      ],
      "metadata": {
        "id": "pl7TYDHA-3QI"
      },
      "execution_count": null,
      "outputs": []
    },
    {
      "cell_type": "markdown",
      "source": [
        "# 実行"
      ],
      "metadata": {
        "id": "6IVB3drE_BP_"
      }
    },
    {
      "cell_type": "code",
      "source": [
        "#@title ckptファイルのURLの指定\n",
        "base_model_url = \"https://huggingface.co/runwayml/stable-diffusion-v1-5/resolve/main/v1-5-pruned-emaonly.ckpt\"#@param {type:\"string\"}\n",
        "target_model_url = \"https://huggingface.co/prompthero/openjourney/resolve/main/mdjrny-v4.ckpt\"#@param {type:\"string\"}"
      ],
      "metadata": {
        "cellView": "form",
        "id": "34UB_5y-_Ao6"
      },
      "execution_count": null,
      "outputs": []
    },
    {
      "cell_type": "code",
      "source": [
        "#@title ckptファイルのダウンロード\n",
        "\n",
        "models_dir = Path(\"./models\")\n",
        "\n",
        "if not os.path.isdir(models_dir):\n",
        "  os.mkdir(models_dir)\n",
        "\n",
        "base_model_name = base_model_url.split(\"/\")[-1]\n",
        "base_model_path = models_dir / base_model_name\n",
        "\n",
        "target_model_name = target_model_url.split(\"/\")[-1]\n",
        "target_model_path = models_dir / target_model_name\n",
        "\n",
        "urls = [base_model_url, target_model_url]\n",
        "\n",
        "for url in urls:\n",
        "  model_name = url.split(\"/\")[-1]\n",
        "  model_path = models_dir / model_name\n",
        "  if not os.path.isfile(model_path):\n",
        "    print(f\"Downloading {url}\")\n",
        "    base_model = requests.get(url).content\n",
        "\n",
        "    with open(model_path,mode='wb') as f:\n",
        "      f.write(base_model)\n",
        "\n",
        "print(\"Finished\")"
      ],
      "metadata": {
        "cellView": "form",
        "id": "sTqc6M2c_8Ka"
      },
      "execution_count": null,
      "outputs": []
    },
    {
      "cell_type": "code",
      "source": [
        "#@title 比較の開始\n",
        "\n",
        "seed = 123456789\n",
        "torch.manual_seed(seed)\n",
        "print(f\"seed: {seed}\") \n",
        "\n",
        "model_a = load_model(base_model_path)\n",
        "\n",
        "print()\n",
        "print(f\"base: {base_model_name} [{model_hash(base_model_path)}]\")\n",
        "print()\n",
        "\n",
        "map_attn_a = {}\n",
        "map_rand_input = {}\n",
        "for n in range(3, 11):\n",
        "    hidden_dim, embed_dim = model_a[f\"model.diffusion_model.output_blocks.{n}.1.transformer_blocks.0.attn1.to_q.weight\"].shape\n",
        "    rand_input = torch.randn([embed_dim, hidden_dim])\n",
        "\n",
        "    map_attn_a[n] = eval(model_a, n, rand_input)\n",
        "    map_rand_input[n] = rand_input\n",
        "    \n",
        "del model_a\n",
        "  \n",
        "model_b = load_model(target_model_path)\n",
        "\n",
        "sims = []\n",
        "for n in range(3, 11):\n",
        "    attn_a = map_attn_a[n]\n",
        "    attn_b = eval(model_b, n, map_rand_input[n])\n",
        "    \n",
        "    sim = torch.mean(torch.cosine_similarity(attn_a, attn_b))\n",
        "    sims.append(sim)\n",
        "\n",
        "del model_b\n",
        "    \n",
        "print(f\"{target_model_name} [{model_hash(target_model_path)}] - {torch.mean(torch.stack(sims)) * 1e2:.2f}%\")"
      ],
      "metadata": {
        "colab": {
          "base_uri": "https://localhost:8080/"
        },
        "cellView": "form",
        "id": "SFUvAfqNDDZy",
        "outputId": "6a553b15-ab23-4ec9-8c4e-29e1f5ca80ad"
      },
      "execution_count": null,
      "outputs": [
        {
          "output_type": "stream",
          "name": "stdout",
          "text": [
            "seed: 123456789\n",
            "\n",
            "base: v1-5-pruned-emaonly.ckpt [81761151]\n",
            "\n",
            "mdjrny-v4.ckpt [ddc6edf2] - 99.96%\n"
          ]
        }
      ]
    }
  ]
}