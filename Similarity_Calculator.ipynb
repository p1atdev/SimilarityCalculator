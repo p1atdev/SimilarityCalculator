{
  "nbformat": 4,
  "nbformat_minor": 0,
  "metadata": {
    "colab": {
      "provenance": [],
      "collapsed_sections": [
        "SESVfDwK-a2d",
        "Bw8msfIw-tba",
        "Scu5Miw9-xEY"
      ],
      "authorship_tag": "ABX9TyMLhb/h3z+QFR7ByhGZPJCy",
      "include_colab_link": true
    },
    "kernelspec": {
      "name": "python3",
      "display_name": "Python 3"
    },
    "language_info": {
      "name": "python"
    },
    "accelerator": "GPU",
    "gpuClass": "standard"
  },
  "cells": [
    {
      "cell_type": "markdown",
      "metadata": {
        "id": "view-in-github",
        "colab_type": "text"
      },
      "source": [
        "<a href=\"https://colab.research.google.com/github/p1atdev/SimilarityCalculator/blob/main/Similarity_Calculator.ipynb\" target=\"_parent\"><img src=\"https://colab.research.google.com/assets/colab-badge.svg\" alt=\"Open In Colab\"/></a>"
      ]
    },
    {
      "cell_type": "markdown",
      "source": [
        "# Similarity Calculator\n",
        "\n",
        "これ↓をColabで動くようにしただけ\n",
        "\n",
        "https://huggingface.co/JosephusCheung/ASimilarityCalculatior"
      ],
      "metadata": {
        "id": "87h0wMd7IK6a"
      }
    },
    {
      "cell_type": "markdown",
      "source": [
        "# 準備\n",
        "必要なもののインストールなど"
      ],
      "metadata": {
        "id": "SESVfDwK-a2d"
      }
    },
    {
      "cell_type": "code",
      "execution_count": null,
      "metadata": {
        "id": "FjSao2FH98UN",
        "colab": {
          "base_uri": "https://localhost:8080/"
        },
        "outputId": "89dcfb5a-d1bc-441d-ad22-3a6ef2a66b58"
      },
      "outputs": [
        {
          "output_type": "stream",
          "name": "stdout",
          "text": [
            "Looking in indexes: https://pypi.org/simple, https://us-python.pkg.dev/colab-wheels/public/simple/\n",
            "Requirement already satisfied: torch in /usr/local/lib/python3.8/dist-packages (1.13.0+cu116)\n",
            "Requirement already satisfied: pytorch-lightning in /usr/local/lib/python3.8/dist-packages (1.8.4.post0)\n",
            "Requirement already satisfied: safetensors in /usr/local/lib/python3.8/dist-packages (0.2.6)\n",
            "Requirement already satisfied: typing-extensions in /usr/local/lib/python3.8/dist-packages (from torch) (4.4.0)\n",
            "Requirement already satisfied: tensorboardX>=2.2 in /usr/local/lib/python3.8/dist-packages (from pytorch-lightning) (2.5.1)\n",
            "Requirement already satisfied: packaging>=17.0 in /usr/local/lib/python3.8/dist-packages (from pytorch-lightning) (21.3)\n",
            "Requirement already satisfied: tqdm>=4.57.0 in /usr/local/lib/python3.8/dist-packages (from pytorch-lightning) (4.64.1)\n",
            "Requirement already satisfied: torchmetrics>=0.7.0 in /usr/local/lib/python3.8/dist-packages (from pytorch-lightning) (0.11.0)\n",
            "Requirement already satisfied: numpy>=1.17.2 in /usr/local/lib/python3.8/dist-packages (from pytorch-lightning) (1.21.6)\n",
            "Requirement already satisfied: lightning-utilities!=0.4.0,>=0.3.0 in /usr/local/lib/python3.8/dist-packages (from pytorch-lightning) (0.4.2)\n",
            "Requirement already satisfied: fsspec[http]>2021.06.0 in /usr/local/lib/python3.8/dist-packages (from pytorch-lightning) (2022.11.0)\n",
            "Requirement already satisfied: PyYAML>=5.4 in /usr/local/lib/python3.8/dist-packages (from pytorch-lightning) (6.0)\n",
            "Requirement already satisfied: aiohttp!=4.0.0a0,!=4.0.0a1 in /usr/local/lib/python3.8/dist-packages (from fsspec[http]>2021.06.0->pytorch-lightning) (3.8.3)\n",
            "Requirement already satisfied: requests in /usr/local/lib/python3.8/dist-packages (from fsspec[http]>2021.06.0->pytorch-lightning) (2.23.0)\n",
            "Requirement already satisfied: frozenlist>=1.1.1 in /usr/local/lib/python3.8/dist-packages (from aiohttp!=4.0.0a0,!=4.0.0a1->fsspec[http]>2021.06.0->pytorch-lightning) (1.3.3)\n",
            "Requirement already satisfied: multidict<7.0,>=4.5 in /usr/local/lib/python3.8/dist-packages (from aiohttp!=4.0.0a0,!=4.0.0a1->fsspec[http]>2021.06.0->pytorch-lightning) (6.0.3)\n",
            "Requirement already satisfied: yarl<2.0,>=1.0 in /usr/local/lib/python3.8/dist-packages (from aiohttp!=4.0.0a0,!=4.0.0a1->fsspec[http]>2021.06.0->pytorch-lightning) (1.8.2)\n",
            "Requirement already satisfied: attrs>=17.3.0 in /usr/local/lib/python3.8/dist-packages (from aiohttp!=4.0.0a0,!=4.0.0a1->fsspec[http]>2021.06.0->pytorch-lightning) (22.1.0)\n",
            "Requirement already satisfied: async-timeout<5.0,>=4.0.0a3 in /usr/local/lib/python3.8/dist-packages (from aiohttp!=4.0.0a0,!=4.0.0a1->fsspec[http]>2021.06.0->pytorch-lightning) (4.0.2)\n",
            "Requirement already satisfied: charset-normalizer<3.0,>=2.0 in /usr/local/lib/python3.8/dist-packages (from aiohttp!=4.0.0a0,!=4.0.0a1->fsspec[http]>2021.06.0->pytorch-lightning) (2.1.1)\n",
            "Requirement already satisfied: aiosignal>=1.1.2 in /usr/local/lib/python3.8/dist-packages (from aiohttp!=4.0.0a0,!=4.0.0a1->fsspec[http]>2021.06.0->pytorch-lightning) (1.3.1)\n",
            "Requirement already satisfied: pyparsing!=3.0.5,>=2.0.2 in /usr/local/lib/python3.8/dist-packages (from packaging>=17.0->pytorch-lightning) (3.0.9)\n",
            "Requirement already satisfied: protobuf<=3.20.1,>=3.8.0 in /usr/local/lib/python3.8/dist-packages (from tensorboardX>=2.2->pytorch-lightning) (3.19.6)\n",
            "Requirement already satisfied: idna>=2.0 in /usr/local/lib/python3.8/dist-packages (from yarl<2.0,>=1.0->aiohttp!=4.0.0a0,!=4.0.0a1->fsspec[http]>2021.06.0->pytorch-lightning) (2.10)\n",
            "Requirement already satisfied: chardet<4,>=3.0.2 in /usr/local/lib/python3.8/dist-packages (from requests->fsspec[http]>2021.06.0->pytorch-lightning) (3.0.4)\n",
            "Requirement already satisfied: certifi>=2017.4.17 in /usr/local/lib/python3.8/dist-packages (from requests->fsspec[http]>2021.06.0->pytorch-lightning) (2022.9.24)\n",
            "Requirement already satisfied: urllib3!=1.25.0,!=1.25.1,<1.26,>=1.21.1 in /usr/local/lib/python3.8/dist-packages (from requests->fsspec[http]>2021.06.0->pytorch-lightning) (1.24.3)\n"
          ]
        }
      ],
      "source": [
        "!pip install torch pytorch-lightning safetensors"
      ]
    },
    {
      "cell_type": "markdown",
      "source": [
        "## インポート"
      ],
      "metadata": {
        "id": "Bw8msfIw-tba"
      }
    },
    {
      "cell_type": "code",
      "source": [
        "from safetensors.torch import load_file\n",
        "import sys\n",
        "import torch\n",
        "from pathlib import Path\n",
        "import torch.nn as nn\n",
        "import torch.nn.functional as F\n",
        "import requests\n",
        "from pathlib import Path\n",
        "import os"
      ],
      "metadata": {
        "id": "oztgDAfs-Z5-"
      },
      "execution_count": null,
      "outputs": []
    },
    {
      "cell_type": "markdown",
      "source": [
        "## 関数定義"
      ],
      "metadata": {
        "id": "Scu5Miw9-xEY"
      }
    },
    {
      "cell_type": "code",
      "source": [
        "def cal_cross_attn(to_q, to_k, to_v, rand_input):\n",
        "    hidden_dim, embed_dim = to_q.shape\n",
        "    attn_to_q = nn.Linear(hidden_dim, embed_dim, bias=False)\n",
        "    attn_to_k = nn.Linear(hidden_dim, embed_dim, bias=False)\n",
        "    attn_to_v = nn.Linear(hidden_dim, embed_dim, bias=False)\n",
        "    attn_to_q.load_state_dict({\"weight\": to_q})\n",
        "    attn_to_k.load_state_dict({\"weight\": to_k})\n",
        "    attn_to_v.load_state_dict({\"weight\": to_v})\n",
        "    \n",
        "    return torch.einsum(\n",
        "        \"ik, jk -> ik\", \n",
        "        F.softmax(torch.einsum(\"ij, kj -> ik\", attn_to_q(rand_input), attn_to_k(rand_input)), dim=-1),\n",
        "        attn_to_v(rand_input)\n",
        "    )\n",
        "\n",
        "def model_hash(filename):\n",
        "    try:\n",
        "        with open(filename, \"rb\") as file:\n",
        "            import hashlib\n",
        "            m = hashlib.sha256()\n",
        "\n",
        "            file.seek(0x100000)\n",
        "            m.update(file.read(0x10000))\n",
        "            return m.hexdigest()[0:8]\n",
        "    except FileNotFoundError:\n",
        "        return 'NOFILE'\n",
        "        \n",
        "def load_model(path):\n",
        "    if path.suffix == \".safetensors\":\n",
        "        return load_file(path, device=\"cpu\")\n",
        "    else:\n",
        "        ckpt = torch.load(path, map_location=\"cpu\")\n",
        "        return ckpt[\"state_dict\"] if \"state_dict\" in ckpt else ckpt\n",
        "        \n",
        "def eval(model, n, input):\n",
        "    qk = f\"model.diffusion_model.output_blocks.{n}.1.transformer_blocks.0.attn1.to_q.weight\"\n",
        "    uk = f\"model.diffusion_model.output_blocks.{n}.1.transformer_blocks.0.attn1.to_k.weight\"\n",
        "    vk = f\"model.diffusion_model.output_blocks.{n}.1.transformer_blocks.0.attn1.to_v.weight\"\n",
        "    atoq, atok, atov = model[qk], model[uk], model[vk]\n",
        "\n",
        "    attn = cal_cross_attn(atoq, atok, atov, input)\n",
        "    return attn"
      ],
      "metadata": {
        "id": "pl7TYDHA-3QI"
      },
      "execution_count": null,
      "outputs": []
    },
    {
      "cell_type": "markdown",
      "source": [
        "# 実行"
      ],
      "metadata": {
        "id": "6IVB3drE_BP_"
      }
    },
    {
      "cell_type": "code",
      "source": [
        "#@title ckptファイルのURLの指定\n",
        "base_model_url = \"https://huggingface.co/CompVis/stable-diffusion-v-1-4-original/resolve/main/sd-v1-4.ckpt\"#@param {type:\"string\"}\n",
        "target_model_url = \"https://huggingface.co/nitrosocke/elden-ring-diffusion/resolve/main/eldenRing-v3-pruned.ckpt\"#@param {type:\"string\"}"
      ],
      "metadata": {
        "cellView": "form",
        "id": "34UB_5y-_Ao6"
      },
      "execution_count": null,
      "outputs": []
    },
    {
      "cell_type": "code",
      "source": [
        "#@title ckptファイルのダウンロード\n",
        "\n",
        "models_dir = Path(\"./models\")\n",
        "\n",
        "if not os.path.isdir(models_dir):\n",
        "  os.mkdir(models_dir)\n",
        "\n",
        "base_model_name = base_model_url.split(\"/\")[-1]\n",
        "base_model_path = models_dir / base_model_name\n",
        "\n",
        "target_model_name = target_model_url.split(\"/\")[-1]\n",
        "target_model_path = models_dir / target_model_name\n",
        "\n",
        "urls = [base_model_url, target_model_url]\n",
        "\n",
        "for url in urls:\n",
        "  model_name = url.split(\"/\")[-1]\n",
        "  model_path = models_dir / model_name\n",
        "  if not os.path.isfile(model_path):\n",
        "    print(f\"Downloading {url}\")\n",
        "    !wget $url -P \"./models\"\n",
        "\n",
        "print(\"Finished\")"
      ],
      "metadata": {
        "cellView": "form",
        "id": "sTqc6M2c_8Ka",
        "colab": {
          "base_uri": "https://localhost:8080/"
        },
        "outputId": "c274d6e3-b7cf-498b-9ce3-c74bf0f0bb3e"
      },
      "execution_count": null,
      "outputs": [
        {
          "output_type": "stream",
          "name": "stdout",
          "text": [
            "Downloading https://huggingface.co/nitrosocke/elden-ring-diffusion/resolve/main/eldenRing-v3-pruned.ckpt\n",
            "Finished\n"
          ]
        }
      ]
    },
    {
      "cell_type": "code",
      "source": [
        "#@title 比較の開始\n",
        "\n",
        "seed = 123456789\n",
        "torch.manual_seed(seed)\n",
        "print(f\"seed: {seed}\") \n",
        "\n",
        "model_a = load_model(base_model_path)\n",
        "\n",
        "print()\n",
        "print(f\"base: {base_model_name} [{model_hash(base_model_path)}]\")\n",
        "print()\n",
        "\n",
        "map_attn_a = {}\n",
        "map_rand_input = {}\n",
        "for n in range(3, 11):\n",
        "    hidden_dim, embed_dim = model_a[f\"model.diffusion_model.output_blocks.{n}.1.transformer_blocks.0.attn1.to_q.weight\"].shape\n",
        "    rand_input = torch.randn([embed_dim, hidden_dim])\n",
        "\n",
        "    map_attn_a[n] = eval(model_a, n, rand_input)\n",
        "    map_rand_input[n] = rand_input\n",
        "    \n",
        "del model_a\n",
        "  \n",
        "model_b = load_model(target_model_path)\n",
        "\n",
        "sims = []\n",
        "for n in range(3, 11):\n",
        "    attn_a = map_attn_a[n]\n",
        "    attn_b = eval(model_b, n, map_rand_input[n])\n",
        "    \n",
        "    sim = torch.mean(torch.cosine_similarity(attn_a, attn_b))\n",
        "    sims.append(sim)\n",
        "\n",
        "del model_b\n",
        "    \n",
        "print(f\"{target_model_name} [{model_hash(target_model_path)}] - {torch.mean(torch.stack(sims)) * 1e2:.2f}%\")"
      ],
      "metadata": {
        "colab": {
          "base_uri": "https://localhost:8080/"
        },
        "cellView": "form",
        "id": "SFUvAfqNDDZy",
        "outputId": "fad88e9f-4d88-43d2-bf1a-db271f9f7521"
      },
      "execution_count": null,
      "outputs": [
        {
          "output_type": "stream",
          "name": "stdout",
          "text": [
            "seed: 123456789\n",
            "\n",
            "base: sd-v1-4.ckpt [7460a6fa]\n",
            "\n",
            "eldenRing-v3-pruned.ckpt [6bb23006] - 69.10%\n"
          ]
        }
      ]
    }
  ]
}